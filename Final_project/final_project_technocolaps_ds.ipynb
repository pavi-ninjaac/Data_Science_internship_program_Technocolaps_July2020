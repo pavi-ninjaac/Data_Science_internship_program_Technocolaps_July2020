{
 "cells": [
  {
   "cell_type": "code",
   "execution_count": 2,
   "metadata": {},
   "outputs": [],
   "source": [
    "# import libraries\n",
    "import numpy as np\n",
    "import pandas as pd\n",
    "import matplotlib.pyplot as plt\n",
    "from sklearn.model_selection import train_test_split\n"
   ]
  },
  {
   "cell_type": "code",
   "execution_count": 3,
   "metadata": {},
   "outputs": [
    {
     "name": "stdout",
     "output_type": "stream",
     "text": [
      "(51, 5)\n"
     ]
    },
    {
     "data": {
      "text/html": [
       "<div>\n",
       "<style scoped>\n",
       "    .dataframe tbody tr th:only-of-type {\n",
       "        vertical-align: middle;\n",
       "    }\n",
       "\n",
       "    .dataframe tbody tr th {\n",
       "        vertical-align: top;\n",
       "    }\n",
       "\n",
       "    .dataframe thead th {\n",
       "        text-align: right;\n",
       "    }\n",
       "</style>\n",
       "<table border=\"1\" class=\"dataframe\">\n",
       "  <thead>\n",
       "    <tr style=\"text-align: right;\">\n",
       "      <th></th>\n",
       "      <th>state</th>\n",
       "      <th>drvr_fatl_col_bmiles</th>\n",
       "      <th>perc_fatl_speed</th>\n",
       "      <th>perc_fatl_alcohol</th>\n",
       "      <th>perc_fatl_1st_time</th>\n",
       "    </tr>\n",
       "  </thead>\n",
       "  <tbody>\n",
       "    <tr>\n",
       "      <th>0</th>\n",
       "      <td>Alabama</td>\n",
       "      <td>18.8</td>\n",
       "      <td>39</td>\n",
       "      <td>30</td>\n",
       "      <td>80</td>\n",
       "    </tr>\n",
       "    <tr>\n",
       "      <th>1</th>\n",
       "      <td>Alaska</td>\n",
       "      <td>18.1</td>\n",
       "      <td>41</td>\n",
       "      <td>25</td>\n",
       "      <td>94</td>\n",
       "    </tr>\n",
       "    <tr>\n",
       "      <th>2</th>\n",
       "      <td>Arizona</td>\n",
       "      <td>18.6</td>\n",
       "      <td>35</td>\n",
       "      <td>28</td>\n",
       "      <td>96</td>\n",
       "    </tr>\n",
       "    <tr>\n",
       "      <th>3</th>\n",
       "      <td>Arkansas</td>\n",
       "      <td>22.4</td>\n",
       "      <td>18</td>\n",
       "      <td>26</td>\n",
       "      <td>95</td>\n",
       "    </tr>\n",
       "    <tr>\n",
       "      <th>4</th>\n",
       "      <td>California</td>\n",
       "      <td>12.0</td>\n",
       "      <td>35</td>\n",
       "      <td>28</td>\n",
       "      <td>89</td>\n",
       "    </tr>\n",
       "  </tbody>\n",
       "</table>\n",
       "</div>"
      ],
      "text/plain": [
       "        state  drvr_fatl_col_bmiles  perc_fatl_speed  perc_fatl_alcohol  \\\n",
       "0     Alabama                  18.8               39                 30   \n",
       "1      Alaska                  18.1               41                 25   \n",
       "2     Arizona                  18.6               35                 28   \n",
       "3    Arkansas                  22.4               18                 26   \n",
       "4  California                  12.0               35                 28   \n",
       "\n",
       "   perc_fatl_1st_time  \n",
       "0                  80  \n",
       "1                  94  \n",
       "2                  96  \n",
       "3                  95  \n",
       "4                  89  "
      ]
     },
     "execution_count": 3,
     "metadata": {},
     "output_type": "execute_result"
    }
   ],
   "source": [
    "read_accident_data=pd.read_csv(r'F:\\internship2020_kaggle\\final_project\\road-accidents.csv',sep='|',skiprows=9)\n",
    "print(read_accident_data.shape)\n",
    "read_accident_data.head()"
   ]
  },
  {
   "cell_type": "code",
   "execution_count": 4,
   "metadata": {},
   "outputs": [
    {
     "data": {
      "text/html": [
       "<div>\n",
       "<style scoped>\n",
       "    .dataframe tbody tr th:only-of-type {\n",
       "        vertical-align: middle;\n",
       "    }\n",
       "\n",
       "    .dataframe tbody tr th {\n",
       "        vertical-align: top;\n",
       "    }\n",
       "\n",
       "    .dataframe thead th {\n",
       "        text-align: right;\n",
       "    }\n",
       "</style>\n",
       "<table border=\"1\" class=\"dataframe\">\n",
       "  <thead>\n",
       "    <tr style=\"text-align: right;\">\n",
       "      <th></th>\n",
       "      <th>state</th>\n",
       "      <th>million_miles_annually</th>\n",
       "    </tr>\n",
       "  </thead>\n",
       "  <tbody>\n",
       "    <tr>\n",
       "      <th>0</th>\n",
       "      <td>Alabama</td>\n",
       "      <td>64914</td>\n",
       "    </tr>\n",
       "    <tr>\n",
       "      <th>1</th>\n",
       "      <td>Alaska</td>\n",
       "      <td>4593</td>\n",
       "    </tr>\n",
       "    <tr>\n",
       "      <th>2</th>\n",
       "      <td>Arizona</td>\n",
       "      <td>59575</td>\n",
       "    </tr>\n",
       "    <tr>\n",
       "      <th>3</th>\n",
       "      <td>Arkansas</td>\n",
       "      <td>32953</td>\n",
       "    </tr>\n",
       "    <tr>\n",
       "      <th>4</th>\n",
       "      <td>California</td>\n",
       "      <td>320784</td>\n",
       "    </tr>\n",
       "  </tbody>\n",
       "</table>\n",
       "</div>"
      ],
      "text/plain": [
       "        state  million_miles_annually\n",
       "0     Alabama                   64914\n",
       "1      Alaska                    4593\n",
       "2     Arizona                   59575\n",
       "3    Arkansas                   32953\n",
       "4  California                  320784"
      ]
     },
     "execution_count": 4,
     "metadata": {},
     "output_type": "execute_result"
    }
   ],
   "source": [
    "mile_der_data=pd.read_csv(r'F:\\internship2020_kaggle\\final_project\\miles-driven.csv',sep='|')\n",
    "mile_der_data.head()"
   ]
  },
  {
   "cell_type": "code",
   "execution_count": 5,
   "metadata": {},
   "outputs": [
    {
     "data": {
      "text/html": [
       "<div>\n",
       "<style scoped>\n",
       "    .dataframe tbody tr th:only-of-type {\n",
       "        vertical-align: middle;\n",
       "    }\n",
       "\n",
       "    .dataframe tbody tr th {\n",
       "        vertical-align: top;\n",
       "    }\n",
       "\n",
       "    .dataframe thead th {\n",
       "        text-align: right;\n",
       "    }\n",
       "</style>\n",
       "<table border=\"1\" class=\"dataframe\">\n",
       "  <thead>\n",
       "    <tr style=\"text-align: right;\">\n",
       "      <th></th>\n",
       "      <th>state</th>\n",
       "      <th>no_falt_1st_time</th>\n",
       "      <th>no_fal_speed</th>\n",
       "      <th>no_falt_alcohol</th>\n",
       "      <th>no_fal_accitends</th>\n",
       "    </tr>\n",
       "  </thead>\n",
       "  <tbody>\n",
       "    <tr>\n",
       "      <th>0</th>\n",
       "      <td>Alabama</td>\n",
       "      <td>976.306560</td>\n",
       "      <td>475.949448</td>\n",
       "      <td>366.114960</td>\n",
       "      <td>1220.3832</td>\n",
       "    </tr>\n",
       "    <tr>\n",
       "      <th>1</th>\n",
       "      <td>Alaska</td>\n",
       "      <td>78.145302</td>\n",
       "      <td>34.084653</td>\n",
       "      <td>20.783325</td>\n",
       "      <td>83.1333</td>\n",
       "    </tr>\n",
       "    <tr>\n",
       "      <th>2</th>\n",
       "      <td>Arizona</td>\n",
       "      <td>1063.771200</td>\n",
       "      <td>387.833250</td>\n",
       "      <td>310.266600</td>\n",
       "      <td>1108.0950</td>\n",
       "    </tr>\n",
       "    <tr>\n",
       "      <th>3</th>\n",
       "      <td>Arkansas</td>\n",
       "      <td>701.239840</td>\n",
       "      <td>132.866496</td>\n",
       "      <td>191.918272</td>\n",
       "      <td>738.1472</td>\n",
       "    </tr>\n",
       "    <tr>\n",
       "      <th>4</th>\n",
       "      <td>California</td>\n",
       "      <td>3425.973120</td>\n",
       "      <td>1347.292800</td>\n",
       "      <td>1077.834240</td>\n",
       "      <td>3849.4080</td>\n",
       "    </tr>\n",
       "  </tbody>\n",
       "</table>\n",
       "</div>"
      ],
      "text/plain": [
       "        state  no_falt_1st_time  no_fal_speed  no_falt_alcohol  \\\n",
       "0     Alabama        976.306560    475.949448       366.114960   \n",
       "1      Alaska         78.145302     34.084653        20.783325   \n",
       "2     Arizona       1063.771200    387.833250       310.266600   \n",
       "3    Arkansas        701.239840    132.866496       191.918272   \n",
       "4  California       3425.973120   1347.292800      1077.834240   \n",
       "\n",
       "   no_fal_accitends  \n",
       "0         1220.3832  \n",
       "1           83.1333  \n",
       "2         1108.0950  \n",
       "3          738.1472  \n",
       "4         3849.4080  "
      ]
     },
     "execution_count": 5,
     "metadata": {},
     "output_type": "execute_result"
    }
   ],
   "source": [
    "#merge the two datsets based on the state column\n",
    "data=pd.merge(read_accident_data,mile_der_data,on='state')\n",
    "\n",
    "#compute the no of accidents\n",
    "data['no_fal_accitends']=data['drvr_fatl_col_bmiles']*data['million_miles_annually']/1000\n",
    "\n",
    "# for the comaprision purpose it is not fair they are in the form of pertentage so i chaged those into numbers\n",
    "# after changing those into numbers i can found the correlation correctly\n",
    "\n",
    "data['no_falt_alcohol']=(data['perc_fatl_alcohol']*data['no_fal_accitends'])/100\n",
    "data['no_fal_speed']=(data['perc_fatl_speed']*data['no_fal_accitends'])/100\n",
    "data['no_falt_1st_time']=(data['perc_fatl_1st_time']*data['no_fal_accitends'])/100\n",
    "\n",
    "#copy neccesary data to new datframe \n",
    "feature_name=['state','no_falt_1st_time','no_fal_speed','no_falt_alcohol','no_fal_accitends']\n",
    "data_acci=data[feature_name]\n",
    "data_acci.head()"
   ]
  },
  {
   "cell_type": "code",
   "execution_count": 6,
   "metadata": {},
   "outputs": [
    {
     "data": {
      "text/html": [
       "<div>\n",
       "<style scoped>\n",
       "    .dataframe tbody tr th:only-of-type {\n",
       "        vertical-align: middle;\n",
       "    }\n",
       "\n",
       "    .dataframe tbody tr th {\n",
       "        vertical-align: top;\n",
       "    }\n",
       "\n",
       "    .dataframe thead th {\n",
       "        text-align: right;\n",
       "    }\n",
       "</style>\n",
       "<table border=\"1\" class=\"dataframe\">\n",
       "  <thead>\n",
       "    <tr style=\"text-align: right;\">\n",
       "      <th></th>\n",
       "      <th>no_falt_1st_time</th>\n",
       "      <th>no_fal_speed</th>\n",
       "      <th>no_falt_alcohol</th>\n",
       "      <th>no_fal_accitends</th>\n",
       "    </tr>\n",
       "  </thead>\n",
       "  <tbody>\n",
       "    <tr>\n",
       "      <th>count</th>\n",
       "      <td>51.000000</td>\n",
       "      <td>51.000000</td>\n",
       "      <td>51.000000</td>\n",
       "      <td>51.000000</td>\n",
       "    </tr>\n",
       "    <tr>\n",
       "      <th>mean</th>\n",
       "      <td>786.705668</td>\n",
       "      <td>281.364821</td>\n",
       "      <td>275.049392</td>\n",
       "      <td>894.808047</td>\n",
       "    </tr>\n",
       "    <tr>\n",
       "      <th>std</th>\n",
       "      <td>821.089400</td>\n",
       "      <td>335.042463</td>\n",
       "      <td>306.321060</td>\n",
       "      <td>927.452441</td>\n",
       "    </tr>\n",
       "    <tr>\n",
       "      <th>min</th>\n",
       "      <td>21.051200</td>\n",
       "      <td>7.157408</td>\n",
       "      <td>5.683824</td>\n",
       "      <td>21.051200</td>\n",
       "    </tr>\n",
       "    <tr>\n",
       "      <th>25%</th>\n",
       "      <td>247.498254</td>\n",
       "      <td>88.726698</td>\n",
       "      <td>95.613486</td>\n",
       "      <td>267.004850</td>\n",
       "    </tr>\n",
       "    <tr>\n",
       "      <th>50%</th>\n",
       "      <td>602.149520</td>\n",
       "      <td>153.448596</td>\n",
       "      <td>191.918272</td>\n",
       "      <td>633.841600</td>\n",
       "    </tr>\n",
       "    <tr>\n",
       "      <th>75%</th>\n",
       "      <td>1002.525369</td>\n",
       "      <td>327.594216</td>\n",
       "      <td>370.101876</td>\n",
       "      <td>1136.839750</td>\n",
       "    </tr>\n",
       "    <tr>\n",
       "      <th>max</th>\n",
       "      <td>4007.512320</td>\n",
       "      <td>1842.534400</td>\n",
       "      <td>1750.407680</td>\n",
       "      <td>4606.336000</td>\n",
       "    </tr>\n",
       "  </tbody>\n",
       "</table>\n",
       "</div>"
      ],
      "text/plain": [
       "       no_falt_1st_time  no_fal_speed  no_falt_alcohol  no_fal_accitends\n",
       "count         51.000000     51.000000        51.000000         51.000000\n",
       "mean         786.705668    281.364821       275.049392        894.808047\n",
       "std          821.089400    335.042463       306.321060        927.452441\n",
       "min           21.051200      7.157408         5.683824         21.051200\n",
       "25%          247.498254     88.726698        95.613486        267.004850\n",
       "50%          602.149520    153.448596       191.918272        633.841600\n",
       "75%         1002.525369    327.594216       370.101876       1136.839750\n",
       "max         4007.512320   1842.534400      1750.407680       4606.336000"
      ]
     },
     "execution_count": 6,
     "metadata": {},
     "output_type": "execute_result"
    }
   ],
   "source": [
    "# some statistical summary \n",
    "data_acci.describe()"
   ]
  },
  {
   "cell_type": "markdown",
   "metadata": {},
   "source": [
    "#### usually it is easy to see the correlatio between the columns using the seaborn "
   ]
  },
  {
   "cell_type": "code",
   "execution_count": 7,
   "metadata": {},
   "outputs": [
    {
     "data": {
      "text/plain": [
       "<seaborn.axisgrid.PairGrid at 0x52eb1d0>"
      ]
     },
     "execution_count": 7,
     "metadata": {},
     "output_type": "execute_result"
    },
    {
     "data": {
      "image/png": "[encoded data removed]",
      "text/plain": [
       "<Figure size 720x720 with 20 Axes>"
      ]
     },
     "metadata": {},
     "output_type": "display_data"
    }
   ],
   "source": [
    "#deeper unserstanding through some distribution visualization\n",
    "import seaborn as sns\n",
    "sns.set(style=\"ticks\", color_codes=True)\n",
    "sns.pairplot(data_acci)"
   ]
  },
  {
   "cell_type": "markdown",
   "metadata": {},
   "source": [
    "###### Pearson correlation coefficinet is also the way to find the correlation between the features and it is used to quantify the \n",
    "correlation between that. ranges from -1 - 1 <br/>\n",
    "-1 opposite correlation<br/>\n",
    "0 no correlation<br/>\n",
    "1 strong correlation"
   ]
  },
  {
   "cell_type": "code",
   "execution_count": 8,
   "metadata": {},
   "outputs": [
    {
     "data": {
      "text/html": [
       "<div>\n",
       "<style scoped>\n",
       "    .dataframe tbody tr th:only-of-type {\n",
       "        vertical-align: middle;\n",
       "    }\n",
       "\n",
       "    .dataframe tbody tr th {\n",
       "        vertical-align: top;\n",
       "    }\n",
       "\n",
       "    .dataframe thead th {\n",
       "        text-align: right;\n",
       "    }\n",
       "</style>\n",
       "<table border=\"1\" class=\"dataframe\">\n",
       "  <thead>\n",
       "    <tr style=\"text-align: right;\">\n",
       "      <th></th>\n",
       "      <th>no_falt_1st_time</th>\n",
       "      <th>no_fal_speed</th>\n",
       "      <th>no_falt_alcohol</th>\n",
       "      <th>no_fal_accitends</th>\n",
       "    </tr>\n",
       "  </thead>\n",
       "  <tbody>\n",
       "    <tr>\n",
       "      <th>no_falt_1st_time</th>\n",
       "      <td>1.000000</td>\n",
       "      <td>0.932976</td>\n",
       "      <td>0.975681</td>\n",
       "      <td>0.996625</td>\n",
       "    </tr>\n",
       "    <tr>\n",
       "      <th>no_fal_speed</th>\n",
       "      <td>0.932976</td>\n",
       "      <td>1.000000</td>\n",
       "      <td>0.962503</td>\n",
       "      <td>0.942785</td>\n",
       "    </tr>\n",
       "    <tr>\n",
       "      <th>no_falt_alcohol</th>\n",
       "      <td>0.975681</td>\n",
       "      <td>0.962503</td>\n",
       "      <td>1.000000</td>\n",
       "      <td>0.982053</td>\n",
       "    </tr>\n",
       "    <tr>\n",
       "      <th>no_fal_accitends</th>\n",
       "      <td>0.996625</td>\n",
       "      <td>0.942785</td>\n",
       "      <td>0.982053</td>\n",
       "      <td>1.000000</td>\n",
       "    </tr>\n",
       "  </tbody>\n",
       "</table>\n",
       "</div>"
      ],
      "text/plain": [
       "                  no_falt_1st_time  no_fal_speed  no_falt_alcohol  \\\n",
       "no_falt_1st_time          1.000000      0.932976         0.975681   \n",
       "no_fal_speed              0.932976      1.000000         0.962503   \n",
       "no_falt_alcohol           0.975681      0.962503         1.000000   \n",
       "no_fal_accitends          0.996625      0.942785         0.982053   \n",
       "\n",
       "                  no_fal_accitends  \n",
       "no_falt_1st_time          0.996625  \n",
       "no_fal_speed              0.942785  \n",
       "no_falt_alcohol           0.982053  \n",
       "no_fal_accitends          1.000000  "
      ]
     },
     "execution_count": 8,
     "metadata": {},
     "output_type": "execute_result"
    }
   ],
   "source": [
    "#Pearson correlation coefficient matrix through pandas\n",
    "data_acci.corr()"
   ]
  },
  {
   "cell_type": "markdown",
   "metadata": {},
   "source": [
    "# multivariant linear regression\n",
    "From the correlation table, we see that the amount of fatal accidents is most strongly correlated with alcohol consumption (first row). But in addition, we also see that some of the features are correlated with each other, for instance, speeding and alcohol consumption are positively correlated. We, therefore, want to compute the association of the target with each feature while adjusting for the effect of the remaining features. This can be done using multivariate linear regression"
   ]
  },
  {
   "cell_type": "code",
   "execution_count": 9,
   "metadata": {},
   "outputs": [
    {
     "data": {
      "text/plain": [
       "array([0.9088857 , 0.09331756, 0.4981264 ])"
      ]
     },
     "execution_count": 9,
     "metadata": {},
     "output_type": "execute_result"
    }
   ],
   "source": [
    "#fit the multivariant linear regression\n",
    "\n",
    "from sklearn.linear_model import LinearRegression\n",
    "lr=LinearRegression()\n",
    "lr.fit(data_acci.iloc[:,1:-1].values,data_acci['no_fal_accitends'])\n",
    "lr.coef_"
   ]
  },
  {
   "cell_type": "markdown",
   "metadata": {},
   "source": [
    " from this we can say that the alcohol consumption is weakly correlated to the number of accidents.This could lead us to conclude that alcohol consumption should be a focus for further investigations and maybe strategies should divide states into high versus low alcohol consumption in accidents"
   ]
  },
  {
   "cell_type": "code",
   "execution_count": 27,
   "metadata": {},
   "outputs": [
    {
     "data": {
      "text/html": [
       "<div>\n",
       "<style scoped>\n",
       "    .dataframe tbody tr th:only-of-type {\n",
       "        vertical-align: middle;\n",
       "    }\n",
       "\n",
       "    .dataframe tbody tr th {\n",
       "        vertical-align: top;\n",
       "    }\n",
       "\n",
       "    .dataframe thead th {\n",
       "        text-align: right;\n",
       "    }\n",
       "</style>\n",
       "<table border=\"1\" class=\"dataframe\">\n",
       "  <thead>\n",
       "    <tr style=\"text-align: right;\">\n",
       "      <th></th>\n",
       "      <th>0</th>\n",
       "      <th>1</th>\n",
       "      <th>2</th>\n",
       "    </tr>\n",
       "  </thead>\n",
       "  <tbody>\n",
       "    <tr>\n",
       "      <th>0</th>\n",
       "      <td>0.233212</td>\n",
       "      <td>0.586555</td>\n",
       "      <td>0.300246</td>\n",
       "    </tr>\n",
       "    <tr>\n",
       "      <th>1</th>\n",
       "      <td>-0.871538</td>\n",
       "      <td>-0.745400</td>\n",
       "      <td>-0.838323</td>\n",
       "    </tr>\n",
       "    <tr>\n",
       "      <th>2</th>\n",
       "      <td>0.340794</td>\n",
       "      <td>0.320938</td>\n",
       "      <td>0.116112</td>\n",
       "    </tr>\n",
       "    <tr>\n",
       "      <th>3</th>\n",
       "      <td>-0.105124</td>\n",
       "      <td>-0.447633</td>\n",
       "      <td>-0.274086</td>\n",
       "    </tr>\n",
       "    <tr>\n",
       "      <th>4</th>\n",
       "      <td>3.246333</td>\n",
       "      <td>3.213129</td>\n",
       "      <td>2.646808</td>\n",
       "    </tr>\n",
       "  </tbody>\n",
       "</table>\n",
       "</div>"
      ],
      "text/plain": [
       "          0         1         2\n",
       "0  0.233212  0.586555  0.300246\n",
       "1 -0.871538 -0.745400 -0.838323\n",
       "2  0.340794  0.320938  0.116112\n",
       "3 -0.105124 -0.447633 -0.274086\n",
       "4  3.246333  3.213129  2.646808"
      ]
     },
     "execution_count": 27,
     "metadata": {},
     "output_type": "execute_result"
    }
   ],
   "source": [
    "# pca \n",
    "#PCA uses the absolute variance to calculate the overall variance explained for each principal component, \n",
    "#so it is important that the features are on a similar scale\n",
    "\n",
    "# sclaing the data\n",
    "from sklearn.preprocessing import StandardScaler\n",
    "\n",
    "#create scalar object\n",
    "scalar=StandardScaler()\n",
    "\n",
    "#fit and transform the data \n",
    "data_scaled=scalar.fit_transform(data_acci.iloc[:,1:-1])\n",
    "\n",
    "#transform numpy array to dataframe to apply the iloc function\n",
    "data_scaled=pd.DataFrame(data_scaled)\n",
    "\n",
    "#apply  PCA for feature extraction process\n",
    "from sklearn.decomposition import PCA\n",
    "\n",
    "pca=PCA(n_components=2)\n",
    "\n",
    "pca.fit(data_scaled)\n",
    "data_scaled.head()"
   ]
  },
  {
   "cell_type": "code",
   "execution_count": 37,
   "metadata": {},
   "outputs": [
    {
     "name": "stdout",
     "output_type": "stream",
     "text": [
      " the shape before PCA reduction(51, 3)\n",
      " ----------------------------------------------------------------------\n",
      "The shape after PCA reduction (51, 2)\n"
     ]
    },
    {
     "data": {
      "text/plain": [
       "array([[ 0.64562442, -0.26232638],\n",
       "       [-1.41783247, -0.0879229 ],\n",
       "       [ 0.4480749 , -0.01394383],\n",
       "       [-0.47689632,  0.24099987],\n",
       "       [ 5.25465   , -0.06351943]])"
      ]
     },
     "execution_count": 37,
     "metadata": {},
     "output_type": "execute_result"
    }
   ],
   "source": [
    "#transform the value to reduced dimention for visualization\n",
    "data_pca=pca.transform(data_scaled)\n",
    "\n",
    "print(f\" the shape before PCA reduction{data_scaled.shape}\\n {'-'*70}\")\n",
    "print(f\"The shape after PCA reduction {data_pca.shape}\")\n",
    "\n",
    "data_pca[0:5]"
   ]
  },
  {
   "cell_type": "code",
   "execution_count": 47,
   "metadata": {},
   "outputs": [
    {
     "data": {
      "text/html": [
       "<div>\n",
       "<style scoped>\n",
       "    .dataframe tbody tr th:only-of-type {\n",
       "        vertical-align: middle;\n",
       "    }\n",
       "\n",
       "    .dataframe tbody tr th {\n",
       "        vertical-align: top;\n",
       "    }\n",
       "\n",
       "    .dataframe thead th {\n",
       "        text-align: right;\n",
       "    }\n",
       "</style>\n",
       "<table border=\"1\" class=\"dataframe\">\n",
       "  <thead>\n",
       "    <tr style=\"text-align: right;\">\n",
       "      <th></th>\n",
       "      <th>no_falt_1st_time</th>\n",
       "      <th>no_fal_speed</th>\n",
       "      <th>no_falt_alcohol</th>\n",
       "    </tr>\n",
       "  </thead>\n",
       "  <tbody>\n",
       "    <tr>\n",
       "      <th>0</th>\n",
       "      <td>0.576284</td>\n",
       "      <td>0.573589</td>\n",
       "      <td>0.582144</td>\n",
       "    </tr>\n",
       "    <tr>\n",
       "      <th>1</th>\n",
       "      <td>0.635458</td>\n",
       "      <td>-0.762413</td>\n",
       "      <td>0.122148</td>\n",
       "    </tr>\n",
       "  </tbody>\n",
       "</table>\n",
       "</div>"
      ],
      "text/plain": [
       "   no_falt_1st_time  no_fal_speed  no_falt_alcohol\n",
       "0          0.576284      0.573589         0.582144\n",
       "1          0.635458     -0.762413         0.122148"
      ]
     },
     "execution_count": 47,
     "metadata": {},
     "output_type": "execute_result"
    }
   ],
   "source": [
    "influence_table=pd.DataFrame(pca.components_,columns=data_acci.columns[1:-1])\n",
    "influence_table"
   ]
  },
  {
   "cell_type": "markdown",
   "metadata": {},
   "source": [
    "This value tells us 'how much' the feature influences the PC here the value 0.58 means how  mach that influence on the principle component.\n",
    "So the higher the value in absolute value, the higher the influence on the principal component"
   ]
  },
  {
   "cell_type": "code",
   "execution_count": 48,
   "metadata": {},
   "outputs": [
    {
     "data": {
      "text/plain": [
       "array([[ 0.5762838 ,  0.57358947,  0.58214439],\n",
       "       [ 0.63545821, -0.76241251,  0.12214755]])"
      ]
     },
     "execution_count": 48,
     "metadata": {},
     "output_type": "execute_result"
    }
   ],
   "source": [
    "# shape(n_componetions,n_features) Principal axes in feature space, representing the directions of maximum variance in the data. \n",
    "pca.components_"
   ]
  },
  {
   "cell_type": "markdown",
   "metadata": {},
   "source": [
    "explained variance ratio of each principal\n",
    "component, available via the explained_variance_ratio_ variable. It indicates\n",
    "the proportion of the dataset’s variance that lies along the axis of each principal component.\n",
    "For example, let’s look at the explained variance ratios of the first two components\n",
    "of the 3D dataset represented \n",
    "\n",
    "This tells you that 97.1% of the dataset’s variance lies along the first axis, and 2.2%\n",
    "lies along the second axis. This leaves less than 0.7% for the third axis, so it is reasonable\n",
    "to assume that it probably carries little information."
   ]
  },
  {
   "cell_type": "code",
   "execution_count": 45,
   "metadata": {},
   "outputs": [
    {
     "data": {
      "text/plain": [
       "array([-1.00137763e-16,  1.39322105e-16,  1.74152631e-17])"
      ]
     },
     "execution_count": 45,
     "metadata": {},
     "output_type": "execute_result"
    }
   ],
   "source": [
    "pca.explained_variance_ratio_\n",
    "pca.mean_"
   ]
  },
  {
   "cell_type": "code",
   "execution_count": 51,
   "metadata": {},
   "outputs": [
    {
     "data": {
      "image/png": "[encoded data removed]",
      "text/plain": [
       "<Figure size 432x288 with 1 Axes>"
      ]
     },
     "metadata": {},
     "output_type": "display_data"
    }
   ],
   "source": [
    "# visualize the firat 2 principle components\n",
    "def draw_vector(v0, v1, ax=None):\n",
    "    ax = ax or plt.gca()\n",
    "    arrowprops=dict(arrowstyle='->',\n",
    "                    linewidth=2,\n",
    "                    shrinkA=0, shrinkB=0)\n",
    "    ax.annotate('', v1, v0, arrowprops=arrowprops)\n",
    "\n",
    "# plot data\n",
    "plt.scatter(data_pca[:, 0], data_pca[:, 1], alpha=0.2)\n",
    "for length, vector in zip(pca.explained_variance_, pca.components_):\n",
    "    v = vector * 3 * np.sqrt(length)\n",
    "    draw_vector(pca.mean_, pca.mean_ + v)\n",
    "plt.axis('equal')\n",
    "\n",
    "def myplot(score,coeff,labels=None):\n",
    "    xs = score[:,0]\n",
    "    ys = score[:,1]\n",
    "    n = coeff.shape[0]\n",
    "\n",
    "    plt.scatter(xs ,ys, c = y) #without scaling\n",
    "    for i in range(n):\n",
    "        plt.arrow(0, 0, coeff[i,0], coeff[i,1],color = 'r',alpha = 0.5)\n",
    "        if labels is None:\n",
    "            plt.text(coeff[i,0]* 1.15, coeff[i,1] * 1.15, \"Var\"+str(i+1), color = 'g', ha = 'center', va = 'center')\n",
    "        else:\n",
    "            plt.text(coeff[i,0]* 1.15, coeff[i,1] * 1.15, labels[i], color = 'g', ha = 'center', va = 'center')\n",
    "\n",
    "plt.xlabel(\"PC{}\".format(1))\n",
    "plt.ylabel(\"PC{}\".format(2))\n",
    "plt.grid()\n",
    "\n",
    "#Call the function. \n",
    "myplot(x_new[:,0:2], pca. components_) \n",
    "plt.show()"
   ]
  },
  {
   "cell_type": "markdown",
   "metadata": {},
   "source": [
    "find the relationship between the states(US states) using the clustering algorithm. for that we have first find the number of clusters using the kemans elbo method, bashed on the elbo results set the number of clusters and predict which state belonged to which cluster."
   ]
  },
  {
   "cell_type": "code",
   "execution_count": 55,
   "metadata": {},
   "outputs": [
    {
     "data": {
      "image/png": "[encoded data removed]",
      "text/plain": [
       "<Figure size 432x288 with 1 Axes>"
      ]
     },
     "metadata": {},
     "output_type": "display_data"
    }
   ],
   "source": [
    "#import kmean from sklean cluster\n",
    "from sklearn.cluster import KMeans\n",
    "\n",
    "#find the number of clusters using the elbo method\n",
    "data=data_acci.iloc[:,1:]\n",
    "ws=[]\n",
    "for i in range(1,11):\n",
    "    kmeans=KMeans(n_clusters = i, init = 'k-means++', random_state = 42)\n",
    "    kmeans.fit(data)\n",
    "    ws.append(kmeans.inertia_)\n",
    "\n",
    "# plot the elbo\n",
    "plt.plot(range(1,11),ws)\n",
    "plt.title('elbo method to find no of clusters')\n",
    "plt.xlabel('Number of clusters')\n",
    "plt.ylabel('interia')\n",
    "plt.show()"
   ]
  },
  {
   "cell_type": "markdown",
   "metadata": {},
   "source": [
    "### interia is the Sum of squared distances of samples to their closest cluster center.\n",
    "from this before the no of cluster 3 the differences in the curve is greater after that it slowly reduced so we can use the 3 to number of cluster for our state dataset"
   ]
  },
  {
   "cell_type": "code",
   "execution_count": 56,
   "metadata": {},
   "outputs": [
    {
     "data": {
      "text/plain": [
       "KMeans(algorithm='auto', copy_x=True, init='k-means++', max_iter=300,\n",
       "       n_clusters=3, n_init=10, n_jobs=None, precompute_distances='auto',\n",
       "       random_state=42, tol=0.0001, verbose=0)"
      ]
     },
     "execution_count": 56,
     "metadata": {},
     "output_type": "execute_result"
    }
   ],
   "source": [
    "#fit the kmeans \n",
    "kmeans=KMeans(n_clusters = 3, init = 'k-means++', random_state = 42)\n",
    "kmeans.fit(data)"
   ]
  },
  {
   "cell_type": "code",
   "execution_count": 61,
   "metadata": {},
   "outputs": [
    {
     "data": {
      "text/plain": [
       "array([0, 1, 0, 1, 2, 1, 1, 1, 1, 2, 0, 1, 1, 0, 0, 1, 1, 0, 0, 1, 1, 1,\n",
       "       0, 1, 1, 0, 1, 1, 1, 1, 1, 1, 0, 0, 1, 0, 0, 1, 0, 1, 0, 1, 0, 2,\n",
       "       1, 1, 0, 1, 1, 1, 1])"
      ]
     },
     "execution_count": 61,
     "metadata": {},
     "output_type": "execute_result"
    }
   ],
   "source": [
    "# find the labels for each sample ,like which class they belonged to\n",
    "label=kmeans.labels_\n",
    "label"
   ]
  },
  {
   "cell_type": "code",
   "execution_count": 63,
   "metadata": {},
   "outputs": [
    {
     "data": {
      "text/html": [
       "<div>\n",
       "<style scoped>\n",
       "    .dataframe tbody tr th:only-of-type {\n",
       "        vertical-align: middle;\n",
       "    }\n",
       "\n",
       "    .dataframe tbody tr th {\n",
       "        vertical-align: top;\n",
       "    }\n",
       "\n",
       "    .dataframe thead th {\n",
       "        text-align: right;\n",
       "    }\n",
       "</style>\n",
       "<table border=\"1\" class=\"dataframe\">\n",
       "  <thead>\n",
       "    <tr style=\"text-align: right;\">\n",
       "      <th></th>\n",
       "      <th>state</th>\n",
       "      <th>clusters</th>\n",
       "    </tr>\n",
       "  </thead>\n",
       "  <tbody>\n",
       "    <tr>\n",
       "      <th>0</th>\n",
       "      <td>Alabama</td>\n",
       "      <td>0</td>\n",
       "    </tr>\n",
       "    <tr>\n",
       "      <th>1</th>\n",
       "      <td>Alaska</td>\n",
       "      <td>1</td>\n",
       "    </tr>\n",
       "    <tr>\n",
       "      <th>2</th>\n",
       "      <td>Arizona</td>\n",
       "      <td>0</td>\n",
       "    </tr>\n",
       "    <tr>\n",
       "      <th>3</th>\n",
       "      <td>Arkansas</td>\n",
       "      <td>1</td>\n",
       "    </tr>\n",
       "    <tr>\n",
       "      <th>4</th>\n",
       "      <td>California</td>\n",
       "      <td>2</td>\n",
       "    </tr>\n",
       "  </tbody>\n",
       "</table>\n",
       "</div>"
      ],
      "text/plain": [
       "        state  clusters\n",
       "0     Alabama         0\n",
       "1      Alaska         1\n",
       "2     Arizona         0\n",
       "3    Arkansas         1\n",
       "4  California         2"
      ]
     },
     "execution_count": 63,
     "metadata": {},
     "output_type": "execute_result"
    }
   ],
   "source": [
    "# make dataframe with the state name and labels from the kmeans\n",
    "state_cluster=pd.DataFrame(data_acci.iloc[:,0])\n",
    "state_cluster['clusters']=label\n",
    "state_cluster.head()"
   ]
  },
  {
   "cell_type": "code",
   "execution_count": null,
   "metadata": {},
   "outputs": [],
   "source": []
  }
 ],
 "metadata": {
  "kernelspec": {
   "display_name": "Python 3",
   "language": "python",
   "name": "python3"
  },
  "language_info": {
   "codemirror_mode": {
    "name": "ipython",
    "version": 3
   },
   "file_extension": ".py",
   "mimetype": "text/x-python",
   "name": "python",
   "nbconvert_exporter": "python",
   "pygments_lexer": "ipython3",
   "version": "3.7.6"
  }
 },
 "nbformat": 4,
 "nbformat_minor": 4
}
