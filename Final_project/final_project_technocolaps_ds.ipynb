{
 "cells": [
  {
   "cell_type": "code",
   "execution_count": 1,
   "metadata": {},
   "outputs": [],
   "source": [
    "# import libraries\n",
    "import numpy as np\n",
    "import pandas as pd\n",
    "import matplotlib.pyplot as plt\n",
    "from sklearn.model_selection import train_test_split\n"
   ]
  },
  {
   "cell_type": "markdown",
   "metadata": {},
   "source": [
    "# Exploratry data Analysis"
   ]
  },
  {
   "cell_type": "code",
   "execution_count": 3,
   "metadata": {},
   "outputs": [
    {
     "name": "stdout",
     "output_type": "stream",
     "text": [
      "(51, 5)\n"
     ]
    },
    {
     "data": {
      "text/html": [
       "<div>\n",
       "<style scoped>\n",
       "    .dataframe tbody tr th:only-of-type {\n",
       "        vertical-align: middle;\n",
       "    }\n",
       "\n",
       "    .dataframe tbody tr th {\n",
       "        vertical-align: top;\n",
       "    }\n",
       "\n",
       "    .dataframe thead th {\n",
       "        text-align: right;\n",
       "    }\n",
       "</style>\n",
       "<table border=\"1\" class=\"dataframe\">\n",
       "  <thead>\n",
       "    <tr style=\"text-align: right;\">\n",
       "      <th></th>\n",
       "      <th>state</th>\n",
       "      <th>drvr_fatl_col_bmiles</th>\n",
       "      <th>perc_fatl_speed</th>\n",
       "      <th>perc_fatl_alcohol</th>\n",
       "      <th>perc_fatl_1st_time</th>\n",
       "    </tr>\n",
       "  </thead>\n",
       "  <tbody>\n",
       "    <tr>\n",
       "      <th>0</th>\n",
       "      <td>Alabama</td>\n",
       "      <td>18.8</td>\n",
       "      <td>39</td>\n",
       "      <td>30</td>\n",
       "      <td>80</td>\n",
       "    </tr>\n",
       "    <tr>\n",
       "      <th>1</th>\n",
       "      <td>Alaska</td>\n",
       "      <td>18.1</td>\n",
       "      <td>41</td>\n",
       "      <td>25</td>\n",
       "      <td>94</td>\n",
       "    </tr>\n",
       "    <tr>\n",
       "      <th>2</th>\n",
       "      <td>Arizona</td>\n",
       "      <td>18.6</td>\n",
       "      <td>35</td>\n",
       "      <td>28</td>\n",
       "      <td>96</td>\n",
       "    </tr>\n",
       "    <tr>\n",
       "      <th>3</th>\n",
       "      <td>Arkansas</td>\n",
       "      <td>22.4</td>\n",
       "      <td>18</td>\n",
       "      <td>26</td>\n",
       "      <td>95</td>\n",
       "    </tr>\n",
       "    <tr>\n",
       "      <th>4</th>\n",
       "      <td>California</td>\n",
       "      <td>12.0</td>\n",
       "      <td>35</td>\n",
       "      <td>28</td>\n",
       "      <td>89</td>\n",
       "    </tr>\n",
       "  </tbody>\n",
       "</table>\n",
       "</div>"
      ],
      "text/plain": [
       "        state  drvr_fatl_col_bmiles  perc_fatl_speed  perc_fatl_alcohol  \\\n",
       "0     Alabama                  18.8               39                 30   \n",
       "1      Alaska                  18.1               41                 25   \n",
       "2     Arizona                  18.6               35                 28   \n",
       "3    Arkansas                  22.4               18                 26   \n",
       "4  California                  12.0               35                 28   \n",
       "\n",
       "   perc_fatl_1st_time  \n",
       "0                  80  \n",
       "1                  94  \n",
       "2                  96  \n",
       "3                  95  \n",
       "4                  89  "
      ]
     },
     "execution_count": 3,
     "metadata": {},
     "output_type": "execute_result"
    }
   ],
   "source": [
    "read_accident_data=pd.read_csv(r'F:\\internship2020_kaggle\\final_project\\road-accidents.csv',sep='|',skiprows=9)\n",
    "print(read_accident_data.shape)\n",
    "read_accident_data.head()"
   ]
  },
  {
   "cell_type": "code",
   "execution_count": 4,
   "metadata": {},
   "outputs": [
    {
     "data": {
      "text/html": [
       "<div>\n",
       "<style scoped>\n",
       "    .dataframe tbody tr th:only-of-type {\n",
       "        vertical-align: middle;\n",
       "    }\n",
       "\n",
       "    .dataframe tbody tr th {\n",
       "        vertical-align: top;\n",
       "    }\n",
       "\n",
       "    .dataframe thead th {\n",
       "        text-align: right;\n",
       "    }\n",
       "</style>\n",
       "<table border=\"1\" class=\"dataframe\">\n",
       "  <thead>\n",
       "    <tr style=\"text-align: right;\">\n",
       "      <th></th>\n",
       "      <th>state</th>\n",
       "      <th>million_miles_annually</th>\n",
       "    </tr>\n",
       "  </thead>\n",
       "  <tbody>\n",
       "    <tr>\n",
       "      <th>0</th>\n",
       "      <td>Alabama</td>\n",
       "      <td>64914</td>\n",
       "    </tr>\n",
       "    <tr>\n",
       "      <th>1</th>\n",
       "      <td>Alaska</td>\n",
       "      <td>4593</td>\n",
       "    </tr>\n",
       "    <tr>\n",
       "      <th>2</th>\n",
       "      <td>Arizona</td>\n",
       "      <td>59575</td>\n",
       "    </tr>\n",
       "    <tr>\n",
       "      <th>3</th>\n",
       "      <td>Arkansas</td>\n",
       "      <td>32953</td>\n",
       "    </tr>\n",
       "    <tr>\n",
       "      <th>4</th>\n",
       "      <td>California</td>\n",
       "      <td>320784</td>\n",
       "    </tr>\n",
       "  </tbody>\n",
       "</table>\n",
       "</div>"
      ],
      "text/plain": [
       "        state  million_miles_annually\n",
       "0     Alabama                   64914\n",
       "1      Alaska                    4593\n",
       "2     Arizona                   59575\n",
       "3    Arkansas                   32953\n",
       "4  California                  320784"
      ]
     },
     "execution_count": 4,
     "metadata": {},
     "output_type": "execute_result"
    }
   ],
   "source": [
    "mile_der_data=pd.read_csv(r'F:\\internship2020_kaggle\\final_project\\miles-driven.csv',sep='|')\n",
    "mile_der_data.head()"
   ]
  },
  {
   "cell_type": "markdown",
   "metadata": {},
   "source": [
    "# Merge two dataset and comute total number of accident"
   ]
  },
  {
   "cell_type": "code",
   "execution_count": 7,
   "metadata": {},
   "outputs": [
    {
     "data": {
      "text/html": [
       "<div>\n",
       "<style scoped>\n",
       "    .dataframe tbody tr th:only-of-type {\n",
       "        vertical-align: middle;\n",
       "    }\n",
       "\n",
       "    .dataframe tbody tr th {\n",
       "        vertical-align: top;\n",
       "    }\n",
       "\n",
       "    .dataframe thead th {\n",
       "        text-align: right;\n",
       "    }\n",
       "</style>\n",
       "<table border=\"1\" class=\"dataframe\">\n",
       "  <thead>\n",
       "    <tr style=\"text-align: right;\">\n",
       "      <th></th>\n",
       "      <th>state</th>\n",
       "      <th>no_falt_1st_time</th>\n",
       "      <th>no_fal_speed</th>\n",
       "      <th>no_falt_alcohol</th>\n",
       "      <th>no_fal_accitends</th>\n",
       "    </tr>\n",
       "  </thead>\n",
       "  <tbody>\n",
       "    <tr>\n",
       "      <th>0</th>\n",
       "      <td>Alabama</td>\n",
       "      <td>976</td>\n",
       "      <td>475</td>\n",
       "      <td>366</td>\n",
       "      <td>1220</td>\n",
       "    </tr>\n",
       "    <tr>\n",
       "      <th>1</th>\n",
       "      <td>Alaska</td>\n",
       "      <td>78</td>\n",
       "      <td>34</td>\n",
       "      <td>20</td>\n",
       "      <td>83</td>\n",
       "    </tr>\n",
       "    <tr>\n",
       "      <th>2</th>\n",
       "      <td>Arizona</td>\n",
       "      <td>1063</td>\n",
       "      <td>387</td>\n",
       "      <td>310</td>\n",
       "      <td>1108</td>\n",
       "    </tr>\n",
       "    <tr>\n",
       "      <th>3</th>\n",
       "      <td>Arkansas</td>\n",
       "      <td>701</td>\n",
       "      <td>132</td>\n",
       "      <td>191</td>\n",
       "      <td>738</td>\n",
       "    </tr>\n",
       "    <tr>\n",
       "      <th>4</th>\n",
       "      <td>California</td>\n",
       "      <td>3425</td>\n",
       "      <td>1347</td>\n",
       "      <td>1077</td>\n",
       "      <td>3849</td>\n",
       "    </tr>\n",
       "  </tbody>\n",
       "</table>\n",
       "</div>"
      ],
      "text/plain": [
       "        state  no_falt_1st_time  no_fal_speed  no_falt_alcohol  \\\n",
       "0     Alabama               976           475              366   \n",
       "1      Alaska                78            34               20   \n",
       "2     Arizona              1063           387              310   \n",
       "3    Arkansas               701           132              191   \n",
       "4  California              3425          1347             1077   \n",
       "\n",
       "   no_fal_accitends  \n",
       "0              1220  \n",
       "1                83  \n",
       "2              1108  \n",
       "3               738  \n",
       "4              3849  "
      ]
     },
     "execution_count": 7,
     "metadata": {},
     "output_type": "execute_result"
    }
   ],
   "source": [
    "#merge the two datsets based on the state column\n",
    "data=pd.merge(read_accident_data,mile_der_data,on='state')\n",
    "\n",
    "#compute the no of accidents\n",
    "data['no_fal_accitends']=(data['drvr_fatl_col_bmiles']*data['million_miles_annually']/1000).astype(int)\n",
    "\n",
    "# for the comaprision purpose it is not fair they are in the form of pertentage so i chaged those into numbers\n",
    "# after changing those into numbers i can found the correlation correctly\n",
    "\n",
    "data['no_falt_alcohol']=((data['perc_fatl_alcohol']*data['no_fal_accitends'])/100).astype(int)\n",
    "data['no_fal_speed']=((data['perc_fatl_speed']*data['no_fal_accitends'])/100).astype(int)\n",
    "data['no_falt_1st_time']=((data['perc_fatl_1st_time']*data['no_fal_accitends'])/100).astype(int)\n",
    "\n",
    "#copy neccesary data to new datframe \n",
    "feature_name=['state','no_falt_1st_time','no_fal_speed','no_falt_alcohol','no_fal_accitends']\n",
    "data_acci=data[feature_name]\n",
    "data_acci.head()"
   ]
  },
  {
   "cell_type": "markdown",
   "metadata": {},
   "source": [
    "# Explotary data analysis"
   ]
  },
  {
   "cell_type": "code",
   "execution_count": 8,
   "metadata": {},
   "outputs": [
    {
     "data": {
      "text/html": [
       "<div>\n",
       "<style scoped>\n",
       "    .dataframe tbody tr th:only-of-type {\n",
       "        vertical-align: middle;\n",
       "    }\n",
       "\n",
       "    .dataframe tbody tr th {\n",
       "        vertical-align: top;\n",
       "    }\n",
       "\n",
       "    .dataframe thead th {\n",
       "        text-align: right;\n",
       "    }\n",
       "</style>\n",
       "<table border=\"1\" class=\"dataframe\">\n",
       "  <thead>\n",
       "    <tr style=\"text-align: right;\">\n",
       "      <th></th>\n",
       "      <th>no_falt_1st_time</th>\n",
       "      <th>no_fal_speed</th>\n",
       "      <th>no_falt_alcohol</th>\n",
       "      <th>no_fal_accitends</th>\n",
       "    </tr>\n",
       "  </thead>\n",
       "  <tbody>\n",
       "    <tr>\n",
       "      <th>count</th>\n",
       "      <td>51.000000</td>\n",
       "      <td>51.000000</td>\n",
       "      <td>51.00000</td>\n",
       "      <td>51.000000</td>\n",
       "    </tr>\n",
       "    <tr>\n",
       "      <th>mean</th>\n",
       "      <td>785.862745</td>\n",
       "      <td>280.803922</td>\n",
       "      <td>274.45098</td>\n",
       "      <td>894.392157</td>\n",
       "    </tr>\n",
       "    <tr>\n",
       "      <th>std</th>\n",
       "      <td>821.031449</td>\n",
       "      <td>335.047162</td>\n",
       "      <td>306.30020</td>\n",
       "      <td>927.478864</td>\n",
       "    </tr>\n",
       "    <tr>\n",
       "      <th>min</th>\n",
       "      <td>21.000000</td>\n",
       "      <td>7.000000</td>\n",
       "      <td>5.00000</td>\n",
       "      <td>21.000000</td>\n",
       "    </tr>\n",
       "    <tr>\n",
       "      <th>25%</th>\n",
       "      <td>246.500000</td>\n",
       "      <td>88.000000</td>\n",
       "      <td>95.00000</td>\n",
       "      <td>266.500000</td>\n",
       "    </tr>\n",
       "    <tr>\n",
       "      <th>50%</th>\n",
       "      <td>601.000000</td>\n",
       "      <td>153.000000</td>\n",
       "      <td>191.00000</td>\n",
       "      <td>633.000000</td>\n",
       "    </tr>\n",
       "    <tr>\n",
       "      <th>75%</th>\n",
       "      <td>1002.000000</td>\n",
       "      <td>327.000000</td>\n",
       "      <td>370.00000</td>\n",
       "      <td>1136.500000</td>\n",
       "    </tr>\n",
       "    <tr>\n",
       "      <th>max</th>\n",
       "      <td>4007.000000</td>\n",
       "      <td>1842.000000</td>\n",
       "      <td>1750.00000</td>\n",
       "      <td>4606.000000</td>\n",
       "    </tr>\n",
       "  </tbody>\n",
       "</table>\n",
       "</div>"
      ],
      "text/plain": [
       "       no_falt_1st_time  no_fal_speed  no_falt_alcohol  no_fal_accitends\n",
       "count         51.000000     51.000000         51.00000         51.000000\n",
       "mean         785.862745    280.803922        274.45098        894.392157\n",
       "std          821.031449    335.047162        306.30020        927.478864\n",
       "min           21.000000      7.000000          5.00000         21.000000\n",
       "25%          246.500000     88.000000         95.00000        266.500000\n",
       "50%          601.000000    153.000000        191.00000        633.000000\n",
       "75%         1002.000000    327.000000        370.00000       1136.500000\n",
       "max         4007.000000   1842.000000       1750.00000       4606.000000"
      ]
     },
     "execution_count": 8,
     "metadata": {},
     "output_type": "execute_result"
    }
   ],
   "source": [
    "# some statistical summary \n",
    "data_acci.describe()"
   ]
  },
  {
   "cell_type": "markdown",
   "metadata": {},
   "source": [
    "#### usually it is easy to see the correlatio between the columns using the seaborn "
   ]
  },
  {
   "cell_type": "code",
   "execution_count": 13,
   "metadata": {},
   "outputs": [
    {
     "name": "stdout",
     "output_type": "stream",
     "text": [
      "<class 'pandas.core.frame.DataFrame'>\n",
      "Int64Index: 51 entries, 0 to 50\n",
      "Data columns (total 5 columns):\n",
      " #   Column            Non-Null Count  Dtype \n",
      "---  ------            --------------  ----- \n",
      " 0   state             51 non-null     object\n",
      " 1   no_falt_1st_time  51 non-null     int32 \n",
      " 2   no_fal_speed      51 non-null     int32 \n",
      " 3   no_falt_alcohol   51 non-null     int32 \n",
      " 4   no_fal_accitends  51 non-null     int32 \n",
      "dtypes: int32(4), object(1)\n",
      "memory usage: 3.4+ KB\n"
     ]
    }
   ],
   "source": [
    "data_acci.info()"
   ]
  },
  {
   "cell_type": "code",
   "execution_count": 44,
   "metadata": {},
   "outputs": [
    {
     "data": {
      "text/plain": [
       "<matplotlib.axes._subplots.AxesSubplot at 0xb6701d0>"
      ]
     },
     "execution_count": 44,
     "metadata": {},
     "output_type": "execute_result"
    },
    {
     "data": {
      "image/png": "[encoded data removed]",
      "text/plain": [
       "<Figure size 1440x720 with 2 Axes>"
      ]
     },
     "metadata": {},
     "output_type": "display_data"
    }
   ],
   "source": [
    "plt.figure(figsize=(20,10))\n",
    "sns.heatmap(read_accident_data.iloc[:,[1,2,3,4]])"
   ]
  },
  {
   "cell_type": "code",
   "execution_count": 18,
   "metadata": {},
   "outputs": [
    {
     "data": {
      "image/png": "[encoded data removed]",
      "text/plain": [
       "<Figure size 1080x720 with 4 Axes>"
      ]
     },
     "metadata": {},
     "output_type": "display_data"
    }
   ],
   "source": [
    "fig,axes=plt.subplots(nrows=2,ncols=2,figsize=(15,10))\n",
    "a1,a2,a3,a4 = axes.flatten()\n",
    "\n",
    "a1.hist(data_acci['no_falt_1st_time'])\n",
    "a1.set_title('NUmber of fatal accident ist time')\n",
    "a2.hist(data_acci['no_fal_speed'])\n",
    "a2.set_title('NUmber of fatal accident by speed')\n",
    "a3.hist(data_acci['no_falt_alcohol'])\n",
    "a3.set_title('NUmber of fatal accident through alcohol')\n",
    "a4.hist(data_acci['no_fal_accitends'])\n",
    "a4.set_title('NUmber of fatal accident')\n",
    "\n",
    "plt.tight_layout()\n",
    "plt.show()"
   ]
  },
  {
   "cell_type": "code",
   "execution_count": 21,
   "metadata": {},
   "outputs": [
    {
     "data": {
      "text/plain": [
       "<matplotlib.axes._subplots.AxesSubplot at 0xb52d430>"
      ]
     },
     "execution_count": 21,
     "metadata": {},
     "output_type": "execute_result"
    },
    {
     "data": {
      "image/png": "[encoded data removed]",
      "text/plain": [
       "<Figure size 1800x720 with 1 Axes>"
      ]
     },
     "metadata": {},
     "output_type": "display_data"
    }
   ],
   "source": [
    "plt.figure(figsize=(25,10))\n",
    "sns.countplot(data_acci['no_fal_accitends'])"
   ]
  },
  {
   "cell_type": "code",
   "execution_count": null,
   "metadata": {},
   "outputs": [],
   "source": []
  },
  {
   "cell_type": "code",
   "execution_count": 9,
   "metadata": {},
   "outputs": [
    {
     "data": {
      "text/plain": [
       "<seaborn.axisgrid.PairGrid at 0x990a890>"
      ]
     },
     "execution_count": 9,
     "metadata": {},
     "output_type": "execute_result"
    },
    {
     "data": {
      "image/png": "[encoded data removed]",
      "text/plain": [
       "<Figure size 720x720 with 20 Axes>"
      ]
     },
     "metadata": {},
     "output_type": "display_data"
    }
   ],
   "source": [
    "#deeper unserstanding through some distribution visualization\n",
    "import seaborn as sns\n",
    "sns.set(style=\"ticks\", color_codes=True)\n",
    "sns.pairplot(data_acci)"
   ]
  },
  {
   "cell_type": "markdown",
   "metadata": {},
   "source": [
    "###### Pearson correlation coefficinet is also the way to find the correlation between the features and it is used to quantify the \n",
    "correlation between that. ranges from -1 - 1 <br/>\n",
    "-1 opposite correlation<br/>\n",
    "0 no correlation<br/>\n",
    "1 strong correlation"
   ]
  },
  {
   "cell_type": "code",
   "execution_count": 12,
   "metadata": {},
   "outputs": [
    {
     "data": {
      "text/plain": [
       "<matplotlib.axes._subplots.AxesSubplot at 0xb4aa110>"
      ]
     },
     "execution_count": 12,
     "metadata": {},
     "output_type": "execute_result"
    },
    {
     "data": {
      "image/png": "[encoded data removed]",
      "text/plain": [
       "<Figure size 432x288 with 2 Axes>"
      ]
     },
     "metadata": {},
     "output_type": "display_data"
    }
   ],
   "source": [
    "#Pearson correlation coefficient matrix through pandas\n",
    "corr=data_acci.corr(method='pearson')\n",
    "sns.heatmap(corr,annot=True)"
   ]
  },
  {
   "cell_type": "markdown",
   "metadata": {},
   "source": [
    "# multivariant linear regression\n",
    "From the correlation table, we see that the amount of fatal accidents is most strongly correlated with alcohol consumption (first row). But in addition, we also see that some of the features are correlated with each other, for instance, speeding and alcohol consumption are positively correlated. We, therefore, want to compute the association of the target with each feature while adjusting for the effect of the remaining features. This can be done using multivariate linear regression"
   ]
  },
  {
   "cell_type": "code",
   "execution_count": 24,
   "metadata": {},
   "outputs": [
    {
     "data": {
      "text/plain": [
       "array([0.90908699, 0.09220681, 0.49904351])"
      ]
     },
     "execution_count": 24,
     "metadata": {},
     "output_type": "execute_result"
    }
   ],
   "source": [
    "#fit the multivariant linear regression\n",
    "\n",
    "from sklearn.linear_model import LinearRegression\n",
    "lr=LinearRegression()\n",
    "lr.fit(data_acci.iloc[:,1:-1].values,data_acci['no_fal_accitends'])\n",
    "lr.coef_"
   ]
  },
  {
   "cell_type": "markdown",
   "metadata": {},
   "source": [
    " from this we can say that the alcohol consumption is weakly correlated to the number of accidents.This could lead us to conclude that alcohol consumption should be a focus for further investigations and maybe strategies should divide states into high versus low alcohol consumption in accidents"
   ]
  },
  {
   "cell_type": "markdown",
   "metadata": {},
   "source": [
    "# PCA"
   ]
  },
  {
   "cell_type": "code",
   "execution_count": 25,
   "metadata": {},
   "outputs": [
    {
     "data": {
      "text/html": [
       "<div>\n",
       "<style scoped>\n",
       "    .dataframe tbody tr th:only-of-type {\n",
       "        vertical-align: middle;\n",
       "    }\n",
       "\n",
       "    .dataframe tbody tr th {\n",
       "        vertical-align: top;\n",
       "    }\n",
       "\n",
       "    .dataframe thead th {\n",
       "        text-align: right;\n",
       "    }\n",
       "</style>\n",
       "<table border=\"1\" class=\"dataframe\">\n",
       "  <thead>\n",
       "    <tr style=\"text-align: right;\">\n",
       "      <th></th>\n",
       "      <th>0</th>\n",
       "      <th>1</th>\n",
       "      <th>2</th>\n",
       "    </tr>\n",
       "  </thead>\n",
       "  <tbody>\n",
       "    <tr>\n",
       "      <th>0</th>\n",
       "      <td>0.233888</td>\n",
       "      <td>0.585376</td>\n",
       "      <td>0.301861</td>\n",
       "    </tr>\n",
       "    <tr>\n",
       "      <th>1</th>\n",
       "      <td>-0.870742</td>\n",
       "      <td>-0.743954</td>\n",
       "      <td>-0.838990</td>\n",
       "    </tr>\n",
       "    <tr>\n",
       "      <th>2</th>\n",
       "      <td>0.340906</td>\n",
       "      <td>0.320112</td>\n",
       "      <td>0.117214</td>\n",
       "    </tr>\n",
       "    <tr>\n",
       "      <th>3</th>\n",
       "      <td>-0.104390</td>\n",
       "      <td>-0.448548</td>\n",
       "      <td>-0.275159</td>\n",
       "    </tr>\n",
       "    <tr>\n",
       "      <th>4</th>\n",
       "      <td>3.246402</td>\n",
       "      <td>3.213892</td>\n",
       "      <td>2.646210</td>\n",
       "    </tr>\n",
       "  </tbody>\n",
       "</table>\n",
       "</div>"
      ],
      "text/plain": [
       "          0         1         2\n",
       "0  0.233888  0.585376  0.301861\n",
       "1 -0.870742 -0.743954 -0.838990\n",
       "2  0.340906  0.320112  0.117214\n",
       "3 -0.104390 -0.448548 -0.275159\n",
       "4  3.246402  3.213892  2.646210"
      ]
     },
     "execution_count": 25,
     "metadata": {},
     "output_type": "execute_result"
    }
   ],
   "source": [
    "# pca \n",
    "#PCA uses the absolute variance to calculate the overall variance explained for each principal component, \n",
    "#so it is important that the features are on a similar scale\n",
    "\n",
    "# sclaing the data\n",
    "from sklearn.preprocessing import StandardScaler\n",
    "\n",
    "#create scalar object\n",
    "scalar=StandardScaler()\n",
    "\n",
    "#fit and transform the data \n",
    "data_scaled=scalar.fit_transform(data_acci.iloc[:,1:-1])\n",
    "\n",
    "#transform numpy array to dataframe to apply the iloc function\n",
    "data_scaled=pd.DataFrame(data_scaled)\n",
    "\n",
    "#apply  PCA for feature extraction process\n",
    "from sklearn.decomposition import PCA\n",
    "\n",
    "pca=PCA(n_components=2)\n",
    "\n",
    "pca.fit(data_scaled)\n",
    "data_scaled.head()"
   ]
  },
  {
   "cell_type": "code",
   "execution_count": 26,
   "metadata": {},
   "outputs": [
    {
     "name": "stdout",
     "output_type": "stream",
     "text": [
      " the shape before PCA reduction(51, 3)\n",
      " ----------------------------------------------------------------------\n",
      "The shape after PCA reduction (51, 2)\n"
     ]
    },
    {
     "data": {
      "text/plain": [
       "array([[ 0.64628274, -0.26073162],\n",
       "       [-1.41693045, -0.08862267],\n",
       "       [ 0.44830914, -0.01291168],\n",
       "       [-0.47762698,  0.24205929],\n",
       "       [ 5.25478449, -0.0634951 ]])"
      ]
     },
     "execution_count": 26,
     "metadata": {},
     "output_type": "execute_result"
    }
   ],
   "source": [
    "#transform the value to reduced dimention for visualization\n",
    "data_pca=pca.transform(data_scaled)\n",
    "\n",
    "print(f\" the shape before PCA reduction{data_scaled.shape}\\n {'-'*70}\")\n",
    "print(f\"The shape after PCA reduction {data_pca.shape}\")\n",
    "\n",
    "data_pca[0:5]"
   ]
  },
  {
   "cell_type": "code",
   "execution_count": 27,
   "metadata": {},
   "outputs": [
    {
     "data": {
      "text/html": [
       "<div>\n",
       "<style scoped>\n",
       "    .dataframe tbody tr th:only-of-type {\n",
       "        vertical-align: middle;\n",
       "    }\n",
       "\n",
       "    .dataframe tbody tr th {\n",
       "        vertical-align: top;\n",
       "    }\n",
       "\n",
       "    .dataframe thead th {\n",
       "        text-align: right;\n",
       "    }\n",
       "</style>\n",
       "<table border=\"1\" class=\"dataframe\">\n",
       "  <thead>\n",
       "    <tr style=\"text-align: right;\">\n",
       "      <th></th>\n",
       "      <th>no_falt_1st_time</th>\n",
       "      <th>no_fal_speed</th>\n",
       "      <th>no_falt_alcohol</th>\n",
       "    </tr>\n",
       "  </thead>\n",
       "  <tbody>\n",
       "    <tr>\n",
       "      <th>0</th>\n",
       "      <td>0.576276</td>\n",
       "      <td>0.573606</td>\n",
       "      <td>0.582136</td>\n",
       "    </tr>\n",
       "    <tr>\n",
       "      <th>1</th>\n",
       "      <td>0.636016</td>\n",
       "      <td>-0.762082</td>\n",
       "      <td>0.121302</td>\n",
       "    </tr>\n",
       "  </tbody>\n",
       "</table>\n",
       "</div>"
      ],
      "text/plain": [
       "   no_falt_1st_time  no_fal_speed  no_falt_alcohol\n",
       "0          0.576276      0.573606         0.582136\n",
       "1          0.636016     -0.762082         0.121302"
      ]
     },
     "execution_count": 27,
     "metadata": {},
     "output_type": "execute_result"
    }
   ],
   "source": [
    "influence_table=pd.DataFrame(pca.components_,columns=data_acci.columns[1:-1])\n",
    "influence_table"
   ]
  },
  {
   "cell_type": "markdown",
   "metadata": {},
   "source": [
    "This value tells us 'how much' the feature influences the PC here the value 0.58 means how  mach that influence on the principle component.\n",
    "So the higher the value in absolute value, the higher the influence on the principal component"
   ]
  },
  {
   "cell_type": "code",
   "execution_count": 28,
   "metadata": {},
   "outputs": [
    {
     "data": {
      "text/plain": [
       "array([[ 0.57627556,  0.57360587,  0.5821364 ],\n",
       "       [ 0.63601626, -0.76208215,  0.12130176]])"
      ]
     },
     "execution_count": 28,
     "metadata": {},
     "output_type": "execute_result"
    }
   ],
   "source": [
    "# shape(n_componetions,n_features) Principal axes in feature space, representing the directions of maximum variance in the data. \n",
    "pca.components_"
   ]
  },
  {
   "cell_type": "markdown",
   "metadata": {},
   "source": [
    "explained variance ratio of each principal\n",
    "component, available via the explained_variance_ratio_ variable. It indicates\n",
    "the proportion of the dataset’s variance that lies along the axis of each principal component.\n",
    "For example, let’s look at the explained variance ratios of the first two components\n",
    "of the 3D dataset represented \n",
    "\n",
    "This tells you that 97.1% of the dataset’s variance lies along the first axis, and 2.2%\n",
    "lies along the second axis. This leaves less than 0.7% for the third axis, so it is reasonable\n",
    "to assume that it probably carries little information."
   ]
  },
  {
   "cell_type": "code",
   "execution_count": 29,
   "metadata": {},
   "outputs": [
    {
     "data": {
      "text/plain": [
       "array([-4.13612499e-17, -1.52383552e-17,  4.57150657e-17])"
      ]
     },
     "execution_count": 29,
     "metadata": {},
     "output_type": "execute_result"
    }
   ],
   "source": [
    "pca.explained_variance_ratio_\n",
    "pca.mean_"
   ]
  },
  {
   "cell_type": "markdown",
   "metadata": {},
   "source": [
    "find the relationship between the states(US states) using the clustering algorithm. for that we have first find the number of clusters using the kemans elbo method, bashed on the elbo results set the number of clusters and predict which state belonged to which cluster."
   ]
  },
  {
   "cell_type": "markdown",
   "metadata": {},
   "source": [
    "# KMeans clustering"
   ]
  },
  {
   "cell_type": "code",
   "execution_count": 97,
   "metadata": {},
   "outputs": [
    {
     "data": {
      "image/png": "[encoded data removed]",
      "text/plain": [
       "<Figure size 720x360 with 1 Axes>"
      ]
     },
     "metadata": {},
     "output_type": "display_data"
    }
   ],
   "source": [
    "#import kmean from sklean cluster\n",
    "from sklearn.cluster import KMeans\n",
    "\n",
    "#find the number of clusters using the elbo method\n",
    "data=data_acci.iloc[:,1:]\n",
    "ws=[]\n",
    "for i in range(1,11):\n",
    "    kmeans=KMeans(n_clusters = i, init = 'k-means++', random_state = 42)\n",
    "    kmeans.fit(data)\n",
    "    ws.append(kmeans.inertia_)\n",
    "\n",
    "# plot the elbo\n",
    "plt.figure(figsize=(10,5))\n",
    "plt.plot(range(1,11),ws)\n",
    "plt.title('elbo method to find no of clusters')\n",
    "plt.xlabel('Number of clusters')\n",
    "plt.ylabel('interia')\n",
    "plt.show()"
   ]
  },
  {
   "cell_type": "markdown",
   "metadata": {},
   "source": [
    "### interia is the Sum of squared distances of samples to their closest cluster center.\n",
    "from this before the no of cluster 3 the differences in the curve is greater after that it slowly reduced so we can use the 3 to number of cluster for our state dataset"
   ]
  },
  {
   "cell_type": "code",
   "execution_count": 98,
   "metadata": {},
   "outputs": [
    {
     "data": {
      "text/plain": [
       "KMeans(algorithm='auto', copy_x=True, init='k-means++', max_iter=300,\n",
       "       n_clusters=3, n_init=10, n_jobs=None, precompute_distances='auto',\n",
       "       random_state=42, tol=0.0001, verbose=0)"
      ]
     },
     "execution_count": 98,
     "metadata": {},
     "output_type": "execute_result"
    }
   ],
   "source": [
    "#fit the kmeans \n",
    "kmeans=KMeans(n_clusters = 3, init = 'k-means++', random_state = 42)\n",
    "kmeans.fit(data)"
   ]
  },
  {
   "cell_type": "code",
   "execution_count": 99,
   "metadata": {},
   "outputs": [
    {
     "data": {
      "text/plain": [
       "array([0, 1, 0, 1, 2, 1, 1, 1, 1, 2, 0, 1, 1, 0, 0, 1, 1, 0, 0, 1, 1, 1,\n",
       "       0, 1, 1, 0, 1, 1, 1, 1, 1, 1, 0, 0, 1, 0, 0, 1, 0, 1, 0, 1, 0, 2,\n",
       "       1, 1, 0, 1, 1, 1, 1])"
      ]
     },
     "execution_count": 99,
     "metadata": {},
     "output_type": "execute_result"
    }
   ],
   "source": [
    "# find the labels for each sample ,like which class they belonged to\n",
    "label=kmeans.labels_\n",
    "label"
   ]
  },
  {
   "cell_type": "code",
   "execution_count": 104,
   "metadata": {},
   "outputs": [
    {
     "data": {
      "text/html": [
       "<div>\n",
       "<style scoped>\n",
       "    .dataframe tbody tr th:only-of-type {\n",
       "        vertical-align: middle;\n",
       "    }\n",
       "\n",
       "    .dataframe tbody tr th {\n",
       "        vertical-align: top;\n",
       "    }\n",
       "\n",
       "    .dataframe thead th {\n",
       "        text-align: right;\n",
       "    }\n",
       "</style>\n",
       "<table border=\"1\" class=\"dataframe\">\n",
       "  <thead>\n",
       "    <tr style=\"text-align: right;\">\n",
       "      <th></th>\n",
       "      <th>state</th>\n",
       "      <th>no_falt_1st_time</th>\n",
       "      <th>no_fal_speed</th>\n",
       "      <th>no_falt_alcohol</th>\n",
       "      <th>no_fal_accitends</th>\n",
       "      <th>clusters</th>\n",
       "      <th>cl</th>\n",
       "    </tr>\n",
       "  </thead>\n",
       "  <tbody>\n",
       "    <tr>\n",
       "      <th>0</th>\n",
       "      <td>Alabama</td>\n",
       "      <td>976</td>\n",
       "      <td>475</td>\n",
       "      <td>366</td>\n",
       "      <td>1220</td>\n",
       "      <td>0</td>\n",
       "      <td>0</td>\n",
       "    </tr>\n",
       "    <tr>\n",
       "      <th>1</th>\n",
       "      <td>Alaska</td>\n",
       "      <td>78</td>\n",
       "      <td>34</td>\n",
       "      <td>20</td>\n",
       "      <td>83</td>\n",
       "      <td>1</td>\n",
       "      <td>1</td>\n",
       "    </tr>\n",
       "    <tr>\n",
       "      <th>2</th>\n",
       "      <td>Arizona</td>\n",
       "      <td>1063</td>\n",
       "      <td>387</td>\n",
       "      <td>310</td>\n",
       "      <td>1108</td>\n",
       "      <td>0</td>\n",
       "      <td>0</td>\n",
       "    </tr>\n",
       "    <tr>\n",
       "      <th>3</th>\n",
       "      <td>Arkansas</td>\n",
       "      <td>701</td>\n",
       "      <td>132</td>\n",
       "      <td>191</td>\n",
       "      <td>738</td>\n",
       "      <td>1</td>\n",
       "      <td>1</td>\n",
       "    </tr>\n",
       "    <tr>\n",
       "      <th>4</th>\n",
       "      <td>California</td>\n",
       "      <td>3425</td>\n",
       "      <td>1347</td>\n",
       "      <td>1077</td>\n",
       "      <td>3849</td>\n",
       "      <td>2</td>\n",
       "      <td>2</td>\n",
       "    </tr>\n",
       "    <tr>\n",
       "      <th>5</th>\n",
       "      <td>Colorado</td>\n",
       "      <td>601</td>\n",
       "      <td>234</td>\n",
       "      <td>177</td>\n",
       "      <td>633</td>\n",
       "      <td>1</td>\n",
       "      <td>1</td>\n",
       "    </tr>\n",
       "    <tr>\n",
       "      <th>6</th>\n",
       "      <td>Connecticut</td>\n",
       "      <td>275</td>\n",
       "      <td>154</td>\n",
       "      <td>120</td>\n",
       "      <td>336</td>\n",
       "      <td>1</td>\n",
       "      <td>1</td>\n",
       "    </tr>\n",
       "    <tr>\n",
       "      <th>7</th>\n",
       "      <td>Delaware</td>\n",
       "      <td>144</td>\n",
       "      <td>55</td>\n",
       "      <td>43</td>\n",
       "      <td>146</td>\n",
       "      <td>1</td>\n",
       "      <td>1</td>\n",
       "    </tr>\n",
       "    <tr>\n",
       "      <th>8</th>\n",
       "      <td>District of Columbia</td>\n",
       "      <td>21</td>\n",
       "      <td>7</td>\n",
       "      <td>5</td>\n",
       "      <td>21</td>\n",
       "      <td>1</td>\n",
       "      <td>1</td>\n",
       "    </tr>\n",
       "    <tr>\n",
       "      <th>9</th>\n",
       "      <td>Florida</td>\n",
       "      <td>3227</td>\n",
       "      <td>721</td>\n",
       "      <td>995</td>\n",
       "      <td>3434</td>\n",
       "      <td>2</td>\n",
       "      <td>2</td>\n",
       "    </tr>\n",
       "    <tr>\n",
       "      <th>10</th>\n",
       "      <td>Georgia</td>\n",
       "      <td>1572</td>\n",
       "      <td>321</td>\n",
       "      <td>422</td>\n",
       "      <td>1691</td>\n",
       "      <td>0</td>\n",
       "      <td>0</td>\n",
       "    </tr>\n",
       "    <tr>\n",
       "      <th>11</th>\n",
       "      <td>Hawaii</td>\n",
       "      <td>153</td>\n",
       "      <td>95</td>\n",
       "      <td>72</td>\n",
       "      <td>176</td>\n",
       "      <td>1</td>\n",
       "      <td>1</td>\n",
       "    </tr>\n",
       "    <tr>\n",
       "      <th>12</th>\n",
       "      <td>Idaho</td>\n",
       "      <td>238</td>\n",
       "      <td>87</td>\n",
       "      <td>70</td>\n",
       "      <td>243</td>\n",
       "      <td>1</td>\n",
       "      <td>1</td>\n",
       "    </tr>\n",
       "    <tr>\n",
       "      <th>13</th>\n",
       "      <td>Illinois</td>\n",
       "      <td>1268</td>\n",
       "      <td>475</td>\n",
       "      <td>449</td>\n",
       "      <td>1321</td>\n",
       "      <td>0</td>\n",
       "      <td>0</td>\n",
       "    </tr>\n",
       "    <tr>\n",
       "      <th>14</th>\n",
       "      <td>Indiana</td>\n",
       "      <td>1053</td>\n",
       "      <td>277</td>\n",
       "      <td>321</td>\n",
       "      <td>1109</td>\n",
       "      <td>0</td>\n",
       "      <td>0</td>\n",
       "    </tr>\n",
       "    <tr>\n",
       "      <th>15</th>\n",
       "      <td>Iowa</td>\n",
       "      <td>427</td>\n",
       "      <td>83</td>\n",
       "      <td>122</td>\n",
       "      <td>491</td>\n",
       "      <td>1</td>\n",
       "      <td>1</td>\n",
       "    </tr>\n",
       "    <tr>\n",
       "      <th>16</th>\n",
       "      <td>Kansas</td>\n",
       "      <td>453</td>\n",
       "      <td>144</td>\n",
       "      <td>128</td>\n",
       "      <td>534</td>\n",
       "      <td>1</td>\n",
       "      <td>1</td>\n",
       "    </tr>\n",
       "    <tr>\n",
       "      <th>17</th>\n",
       "      <td>Kentucky</td>\n",
       "      <td>781</td>\n",
       "      <td>195</td>\n",
       "      <td>236</td>\n",
       "      <td>1028</td>\n",
       "      <td>0</td>\n",
       "      <td>0</td>\n",
       "    </tr>\n",
       "    <tr>\n",
       "      <th>18</th>\n",
       "      <td>Louisiana</td>\n",
       "      <td>933</td>\n",
       "      <td>333</td>\n",
       "      <td>314</td>\n",
       "      <td>953</td>\n",
       "      <td>0</td>\n",
       "      <td>0</td>\n",
       "    </tr>\n",
       "    <tr>\n",
       "      <th>19</th>\n",
       "      <td>Maine</td>\n",
       "      <td>180</td>\n",
       "      <td>81</td>\n",
       "      <td>64</td>\n",
       "      <td>215</td>\n",
       "      <td>1</td>\n",
       "      <td>1</td>\n",
       "    </tr>\n",
       "    <tr>\n",
       "      <th>20</th>\n",
       "      <td>Maryland</td>\n",
       "      <td>694</td>\n",
       "      <td>238</td>\n",
       "      <td>224</td>\n",
       "      <td>702</td>\n",
       "      <td>1</td>\n",
       "      <td>1</td>\n",
       "    </tr>\n",
       "    <tr>\n",
       "      <th>21</th>\n",
       "      <td>Massachusetts</td>\n",
       "      <td>359</td>\n",
       "      <td>103</td>\n",
       "      <td>157</td>\n",
       "      <td>449</td>\n",
       "      <td>1</td>\n",
       "      <td>1</td>\n",
       "    </tr>\n",
       "    <tr>\n",
       "      <th>22</th>\n",
       "      <td>Michigan</td>\n",
       "      <td>1028</td>\n",
       "      <td>320</td>\n",
       "      <td>374</td>\n",
       "      <td>1336</td>\n",
       "      <td>0</td>\n",
       "      <td>0</td>\n",
       "    </tr>\n",
       "    <tr>\n",
       "      <th>23</th>\n",
       "      <td>Minnesota</td>\n",
       "      <td>478</td>\n",
       "      <td>125</td>\n",
       "      <td>157</td>\n",
       "      <td>544</td>\n",
       "      <td>1</td>\n",
       "      <td>1</td>\n",
       "    </tr>\n",
       "    <tr>\n",
       "      <th>24</th>\n",
       "      <td>Mississippi</td>\n",
       "      <td>683</td>\n",
       "      <td>102</td>\n",
       "      <td>211</td>\n",
       "      <td>683</td>\n",
       "      <td>1</td>\n",
       "      <td>1</td>\n",
       "    </tr>\n",
       "    <tr>\n",
       "      <th>25</th>\n",
       "      <td>Missouri</td>\n",
       "      <td>929</td>\n",
       "      <td>476</td>\n",
       "      <td>376</td>\n",
       "      <td>1107</td>\n",
       "      <td>0</td>\n",
       "      <td>0</td>\n",
       "    </tr>\n",
       "    <tr>\n",
       "      <th>26</th>\n",
       "      <td>Montana</td>\n",
       "      <td>211</td>\n",
       "      <td>97</td>\n",
       "      <td>109</td>\n",
       "      <td>249</td>\n",
       "      <td>1</td>\n",
       "      <td>1</td>\n",
       "    </tr>\n",
       "    <tr>\n",
       "      <th>27</th>\n",
       "      <td>Nebraska</td>\n",
       "      <td>255</td>\n",
       "      <td>36</td>\n",
       "      <td>99</td>\n",
       "      <td>284</td>\n",
       "      <td>1</td>\n",
       "      <td>1</td>\n",
       "    </tr>\n",
       "    <tr>\n",
       "      <th>28</th>\n",
       "      <td>Nevada</td>\n",
       "      <td>351</td>\n",
       "      <td>131</td>\n",
       "      <td>113</td>\n",
       "      <td>355</td>\n",
       "      <td>1</td>\n",
       "      <td>1</td>\n",
       "    </tr>\n",
       "    <tr>\n",
       "      <th>29</th>\n",
       "      <td>New Hampshire</td>\n",
       "      <td>122</td>\n",
       "      <td>51</td>\n",
       "      <td>44</td>\n",
       "      <td>147</td>\n",
       "      <td>1</td>\n",
       "      <td>1</td>\n",
       "    </tr>\n",
       "    <tr>\n",
       "      <th>30</th>\n",
       "      <td>New Jersey</td>\n",
       "      <td>638</td>\n",
       "      <td>130</td>\n",
       "      <td>229</td>\n",
       "      <td>818</td>\n",
       "      <td>1</td>\n",
       "      <td>1</td>\n",
       "    </tr>\n",
       "    <tr>\n",
       "      <th>31</th>\n",
       "      <td>New Mexico</td>\n",
       "      <td>461</td>\n",
       "      <td>89</td>\n",
       "      <td>127</td>\n",
       "      <td>471</td>\n",
       "      <td>1</td>\n",
       "      <td>1</td>\n",
       "    </tr>\n",
       "    <tr>\n",
       "      <th>32</th>\n",
       "      <td>New York</td>\n",
       "      <td>1256</td>\n",
       "      <td>502</td>\n",
       "      <td>455</td>\n",
       "      <td>1571</td>\n",
       "      <td>0</td>\n",
       "      <td>0</td>\n",
       "    </tr>\n",
       "    <tr>\n",
       "      <th>33</th>\n",
       "      <td>North Carolina</td>\n",
       "      <td>1411</td>\n",
       "      <td>679</td>\n",
       "      <td>540</td>\n",
       "      <td>1743</td>\n",
       "      <td>0</td>\n",
       "      <td>0</td>\n",
       "    </tr>\n",
       "    <tr>\n",
       "      <th>34</th>\n",
       "      <td>North Dakota</td>\n",
       "      <td>187</td>\n",
       "      <td>50</td>\n",
       "      <td>91</td>\n",
       "      <td>218</td>\n",
       "      <td>1</td>\n",
       "      <td>1</td>\n",
       "    </tr>\n",
       "    <tr>\n",
       "      <th>35</th>\n",
       "      <td>Ohio</td>\n",
       "      <td>1294</td>\n",
       "      <td>442</td>\n",
       "      <td>536</td>\n",
       "      <td>1579</td>\n",
       "      <td>0</td>\n",
       "      <td>0</td>\n",
       "    </tr>\n",
       "    <tr>\n",
       "      <th>36</th>\n",
       "      <td>Oklahoma</td>\n",
       "      <td>887</td>\n",
       "      <td>302</td>\n",
       "      <td>273</td>\n",
       "      <td>944</td>\n",
       "      <td>0</td>\n",
       "      <td>0</td>\n",
       "    </tr>\n",
       "    <tr>\n",
       "      <th>37</th>\n",
       "      <td>Oregon</td>\n",
       "      <td>384</td>\n",
       "      <td>140</td>\n",
       "      <td>111</td>\n",
       "      <td>427</td>\n",
       "      <td>1</td>\n",
       "      <td>1</td>\n",
       "    </tr>\n",
       "    <tr>\n",
       "      <th>38</th>\n",
       "      <td>Pennsylvania</td>\n",
       "      <td>1588</td>\n",
       "      <td>902</td>\n",
       "      <td>559</td>\n",
       "      <td>1805</td>\n",
       "      <td>0</td>\n",
       "      <td>0</td>\n",
       "    </tr>\n",
       "    <tr>\n",
       "      <th>39</th>\n",
       "      <td>Rhode Island</td>\n",
       "      <td>68</td>\n",
       "      <td>29</td>\n",
       "      <td>33</td>\n",
       "      <td>87</td>\n",
       "      <td>1</td>\n",
       "      <td>1</td>\n",
       "    </tr>\n",
       "    <tr>\n",
       "      <th>40</th>\n",
       "      <td>South Carolina</td>\n",
       "      <td>942</td>\n",
       "      <td>442</td>\n",
       "      <td>477</td>\n",
       "      <td>1164</td>\n",
       "      <td>0</td>\n",
       "      <td>0</td>\n",
       "    </tr>\n",
       "    <tr>\n",
       "      <th>41</th>\n",
       "      <td>South Dakota</td>\n",
       "      <td>149</td>\n",
       "      <td>53</td>\n",
       "      <td>57</td>\n",
       "      <td>174</td>\n",
       "      <td>1</td>\n",
       "      <td>1</td>\n",
       "    </tr>\n",
       "    <tr>\n",
       "      <th>42</th>\n",
       "      <td>Tennessee</td>\n",
       "      <td>1116</td>\n",
       "      <td>289</td>\n",
       "      <td>399</td>\n",
       "      <td>1379</td>\n",
       "      <td>0</td>\n",
       "      <td>0</td>\n",
       "    </tr>\n",
       "    <tr>\n",
       "      <th>43</th>\n",
       "      <td>Texas</td>\n",
       "      <td>4007</td>\n",
       "      <td>1842</td>\n",
       "      <td>1750</td>\n",
       "      <td>4606</td>\n",
       "      <td>2</td>\n",
       "      <td>2</td>\n",
       "    </tr>\n",
       "    <tr>\n",
       "      <th>44</th>\n",
       "      <td>Utah</td>\n",
       "      <td>284</td>\n",
       "      <td>127</td>\n",
       "      <td>47</td>\n",
       "      <td>296</td>\n",
       "      <td>1</td>\n",
       "      <td>1</td>\n",
       "    </tr>\n",
       "    <tr>\n",
       "      <th>45</th>\n",
       "      <td>Vermont</td>\n",
       "      <td>92</td>\n",
       "      <td>29</td>\n",
       "      <td>29</td>\n",
       "      <td>97</td>\n",
       "      <td>1</td>\n",
       "      <td>1</td>\n",
       "    </tr>\n",
       "    <tr>\n",
       "      <th>46</th>\n",
       "      <td>Virginia</td>\n",
       "      <td>904</td>\n",
       "      <td>195</td>\n",
       "      <td>277</td>\n",
       "      <td>1028</td>\n",
       "      <td>0</td>\n",
       "      <td>0</td>\n",
       "    </tr>\n",
       "    <tr>\n",
       "      <th>47</th>\n",
       "      <td>Washington</td>\n",
       "      <td>518</td>\n",
       "      <td>253</td>\n",
       "      <td>198</td>\n",
       "      <td>603</td>\n",
       "      <td>1</td>\n",
       "      <td>1</td>\n",
       "    </tr>\n",
       "    <tr>\n",
       "      <th>48</th>\n",
       "      <td>West Virginia</td>\n",
       "      <td>392</td>\n",
       "      <td>153</td>\n",
       "      <td>126</td>\n",
       "      <td>451</td>\n",
       "      <td>1</td>\n",
       "      <td>1</td>\n",
       "    </tr>\n",
       "    <tr>\n",
       "      <th>49</th>\n",
       "      <td>Wisconsin</td>\n",
       "      <td>678</td>\n",
       "      <td>290</td>\n",
       "      <td>266</td>\n",
       "      <td>808</td>\n",
       "      <td>1</td>\n",
       "      <td>1</td>\n",
       "    </tr>\n",
       "    <tr>\n",
       "      <th>50</th>\n",
       "      <td>Wyoming</td>\n",
       "      <td>144</td>\n",
       "      <td>67</td>\n",
       "      <td>51</td>\n",
       "      <td>160</td>\n",
       "      <td>1</td>\n",
       "      <td>1</td>\n",
       "    </tr>\n",
       "  </tbody>\n",
       "</table>\n",
       "</div>"
      ],
      "text/plain": [
       "                   state  no_falt_1st_time  no_fal_speed  no_falt_alcohol  \\\n",
       "0                Alabama               976           475              366   \n",
       "1                 Alaska                78            34               20   \n",
       "2                Arizona              1063           387              310   \n",
       "3               Arkansas               701           132              191   \n",
       "4             California              3425          1347             1077   \n",
       "5               Colorado               601           234              177   \n",
       "6            Connecticut               275           154              120   \n",
       "7               Delaware               144            55               43   \n",
       "8   District of Columbia                21             7                5   \n",
       "9                Florida              3227           721              995   \n",
       "10               Georgia              1572           321              422   \n",
       "11                Hawaii               153            95               72   \n",
       "12                 Idaho               238            87               70   \n",
       "13              Illinois              1268           475              449   \n",
       "14               Indiana              1053           277              321   \n",
       "15                  Iowa               427            83              122   \n",
       "16                Kansas               453           144              128   \n",
       "17              Kentucky               781           195              236   \n",
       "18             Louisiana               933           333              314   \n",
       "19                 Maine               180            81               64   \n",
       "20              Maryland               694           238              224   \n",
       "21         Massachusetts               359           103              157   \n",
       "22              Michigan              1028           320              374   \n",
       "23             Minnesota               478           125              157   \n",
       "24           Mississippi               683           102              211   \n",
       "25              Missouri               929           476              376   \n",
       "26               Montana               211            97              109   \n",
       "27              Nebraska               255            36               99   \n",
       "28                Nevada               351           131              113   \n",
       "29         New Hampshire               122            51               44   \n",
       "30            New Jersey               638           130              229   \n",
       "31            New Mexico               461            89              127   \n",
       "32              New York              1256           502              455   \n",
       "33        North Carolina              1411           679              540   \n",
       "34          North Dakota               187            50               91   \n",
       "35                  Ohio              1294           442              536   \n",
       "36              Oklahoma               887           302              273   \n",
       "37                Oregon               384           140              111   \n",
       "38          Pennsylvania              1588           902              559   \n",
       "39          Rhode Island                68            29               33   \n",
       "40        South Carolina               942           442              477   \n",
       "41          South Dakota               149            53               57   \n",
       "42             Tennessee              1116           289              399   \n",
       "43                 Texas              4007          1842             1750   \n",
       "44                  Utah               284           127               47   \n",
       "45               Vermont                92            29               29   \n",
       "46              Virginia               904           195              277   \n",
       "47            Washington               518           253              198   \n",
       "48         West Virginia               392           153              126   \n",
       "49             Wisconsin               678           290              266   \n",
       "50               Wyoming               144            67               51   \n",
       "\n",
       "    no_fal_accitends  clusters  cl  \n",
       "0               1220         0   0  \n",
       "1                 83         1   1  \n",
       "2               1108         0   0  \n",
       "3                738         1   1  \n",
       "4               3849         2   2  \n",
       "5                633         1   1  \n",
       "6                336         1   1  \n",
       "7                146         1   1  \n",
       "8                 21         1   1  \n",
       "9               3434         2   2  \n",
       "10              1691         0   0  \n",
       "11               176         1   1  \n",
       "12               243         1   1  \n",
       "13              1321         0   0  \n",
       "14              1109         0   0  \n",
       "15               491         1   1  \n",
       "16               534         1   1  \n",
       "17              1028         0   0  \n",
       "18               953         0   0  \n",
       "19               215         1   1  \n",
       "20               702         1   1  \n",
       "21               449         1   1  \n",
       "22              1336         0   0  \n",
       "23               544         1   1  \n",
       "24               683         1   1  \n",
       "25              1107         0   0  \n",
       "26               249         1   1  \n",
       "27               284         1   1  \n",
       "28               355         1   1  \n",
       "29               147         1   1  \n",
       "30               818         1   1  \n",
       "31               471         1   1  \n",
       "32              1571         0   0  \n",
       "33              1743         0   0  \n",
       "34               218         1   1  \n",
       "35              1579         0   0  \n",
       "36               944         0   0  \n",
       "37               427         1   1  \n",
       "38              1805         0   0  \n",
       "39                87         1   1  \n",
       "40              1164         0   0  \n",
       "41               174         1   1  \n",
       "42              1379         0   0  \n",
       "43              4606         2   2  \n",
       "44               296         1   1  \n",
       "45                97         1   1  \n",
       "46              1028         0   0  \n",
       "47               603         1   1  \n",
       "48               451         1   1  \n",
       "49               808         1   1  \n",
       "50               160         1   1  "
      ]
     },
     "execution_count": 104,
     "metadata": {},
     "output_type": "execute_result"
    }
   ],
   "source": [
    "# make dataframe with the state name and labels from the kmeans\n",
    "state_cluster=pd.DataFrame(data_acci)\n",
    "state_cluster['cl']=label\n",
    "state_cluster"
   ]
  },
  {
   "cell_type": "markdown",
   "metadata": {},
   "source": [
    "Let's see how the PCA scatter plot looks if we color the states according to the cluster to which they are assigned.\n",
    "here we can take first 2 features i mean the 'speed and 1st time' to x,y axis and use 'alcohol consumption ' for size of the scatter plot"
   ]
  },
  {
   "cell_type": "code",
   "execution_count": 101,
   "metadata": {},
   "outputs": [
    {
     "data": {
      "image/png": "[encoded data removed]",
      "text/plain": [
       "<Figure size 1008x432 with 1 Axes>"
      ]
     },
     "metadata": {},
     "output_type": "display_data"
    }
   ],
   "source": [
    "#visualize the kmeans results\n",
    "#data=data.iloc[:,:].values\n",
    "state_cluster=state_cluster.iloc[:,:].values\n",
    "y_kmeans=kmeans.predict(data)\n",
    "\n",
    "\n",
    "plt.figure(figsize=(14,6))\n",
    "plt.scatter(state_cluster[y_kmeans == 0, 1], state_cluster[y_kmeans == 0, 2], c = 'red', label = 'Cluster 1')\n",
    "plt.scatter(state_cluster[y_kmeans == 1, 1], state_cluster[y_kmeans == 1, 2], c = 'yellow', label = 'Cluster 2')\n",
    "plt.scatter(state_cluster[y_kmeans == 2, 1], state_cluster[y_kmeans == 2, 2], c = 'blue', label = 'Cluster 3')\n",
    "plt.scatter(kmeans.cluster_centers_[:, 0], kmeans.cluster_centers_[:, 1], s = 100, c = 'green', label = 'Centroids')\n",
    "plt.title('Clusters of states')\n",
    "plt.xlabel('fatal accident first time')\n",
    "plt.ylabel('fatal accitend through high speed')\n",
    "plt.legend()\n",
    "plt.show()"
   ]
  },
  {
   "cell_type": "code",
   "execution_count": 107,
   "metadata": {},
   "outputs": [
    {
     "data": {
      "text/plain": [
       "<matplotlib.axes._subplots.AxesSubplot at 0xc090a70>"
      ]
     },
     "execution_count": 107,
     "metadata": {},
     "output_type": "execute_result"
    },
    {
     "data": {
      "image/png": "[encoded data removed]",
      "text/plain": [
       "<Figure size 432x288 with 1 Axes>"
      ]
     },
     "metadata": {},
     "output_type": "display_data"
    }
   ],
   "source": [
    "state_cluster=pd.DataFrame(state_cluster)\n",
    "\n",
    "sns.barplot(x=\"cl\",y=\"no_fal_accitends\",data=state_cluster,ci=None,estimator=sum)"
   ]
  },
  {
   "cell_type": "markdown",
   "metadata": {},
   "source": [
    "from this clusters we can come to the police have to give more atention to cluster 1\n",
    "# cluster 1\n"
   ]
  },
  {
   "cell_type": "code",
   "execution_count": 108,
   "metadata": {},
   "outputs": [
    {
     "data": {
      "text/plain": [
       "<matplotlib.axes._subplots.AxesSubplot at 0xcbd7b70>"
      ]
     },
     "execution_count": 108,
     "metadata": {},
     "output_type": "execute_result"
    },
    {
     "data": {
      "image/png": "[encoded data removed]",
      "text/plain": [
       "<Figure size 432x288 with 1 Axes>"
      ]
     },
     "metadata": {},
     "output_type": "display_data"
    }
   ],
   "source": [
    "sns.violinplot(x=\"cl\",y=\"no_fal_accitends\",data=state_cluster)"
   ]
  },
  {
   "cell_type": "code",
   "execution_count": null,
   "metadata": {},
   "outputs": [],
   "source": []
  },
  {
   "cell_type": "code",
   "execution_count": null,
   "metadata": {},
   "outputs": [],
   "source": []
  }
 ],
 "metadata": {
  "kernelspec": {
   "display_name": "Python 3",
   "language": "python",
   "name": "python3"
  },
  "language_info": {
   "codemirror_mode": {
    "name": "ipython",
    "version": 3
   },
   "file_extension": ".py",
   "mimetype": "text/x-python",
   "name": "python",
   "nbconvert_exporter": "python",
   "pygments_lexer": "ipython3",
   "version": "3.7.6"
  }
 },
 "nbformat": 4,
 "nbformat_minor": 4
}
